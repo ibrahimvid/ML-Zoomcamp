{
 "cells": [
  {
   "cell_type": "markdown",
   "id": "bbeebbb0",
   "metadata": {},
   "source": [
    "## Question 1\n",
    "\n",
    "* Install Pipenv\n",
    "* What's the version of pipenv you installed?\n",
    "* Use `--version` to find out"
   ]
  },
  {
   "cell_type": "markdown",
   "id": "96ebe7ff",
   "metadata": {},
   "source": [
    "> pipenv, version 2021.5.29"
   ]
  },
  {
   "cell_type": "markdown",
   "id": "adba5212",
   "metadata": {},
   "source": [
    "## Question 2\n",
    "\n",
    "* Use Pipenv to install Scikit-Learn version 1.0\n",
    "* What's the first hash for scikit-learn you get in Pipfile.lock"
   ]
  },
  {
   "cell_type": "markdown",
   "id": "1d7cb7f2",
   "metadata": {},
   "source": [
    "> f8aecb3edc443e5625725ae1ef8f500fa78ce7cb0e864115864bb9f234d18290"
   ]
  },
  {
   "cell_type": "markdown",
   "id": "33dc9de2",
   "metadata": {},
   "source": [
    "## Model\n",
    "\n",
    "We've prepared a dictionary vectorizer and a model.\n",
    "\n",
    "They were trained (roughly) using this code:\n"
   ]
  },
  {
   "cell_type": "code",
   "execution_count": null,
   "id": "a951d753",
   "metadata": {},
   "outputs": [],
   "source": [
    "features = ['tenure', 'monthlycharges', 'contract']\n",
    "dicts = df[features].to_dict(orient='records')\n",
    "\n",
    "dv = DictVectorizer(sparse=False)\n",
    "X = dv.fit_transform(dicts)\n",
    "\n",
    "model = LogisticRegression().fit(X, y)"
   ]
  },
  {
   "cell_type": "markdown",
   "id": "18741991",
   "metadata": {},
   "source": [
    "Note: You don't need to train the model. This code is just for your reference.\n",
    "\n",
    "And then saved with Pickle. Download them:\n",
    "\n",
    "[DictVectorizer](https://github.com/alexeygrigorev/mlbookcamp-code/blob/master/course-zoomcamp/05-deployment/homework/dv.bin?raw=true)\n",
    "\n",
    "[LogisticRegression](https://github.com/alexeygrigorev/mlbookcamp-code/blob/master/course-zoomcamp/05-deployment/homework/model1.bin?raw=true)\n",
    "\n",
    "With wget:\n",
    "```\n",
    "PREFIX=https://raw.githubusercontent.com/alexeygrigorev/mlbookcamp-code/master/course-zoomcamp/05-deployment/homework\n",
    "wget $PREFIX/model1.bin\n",
    "wget $PREFIX/dv.bin\n",
    "```"
   ]
  },
  {
   "cell_type": "markdown",
   "id": "bd81f1d3",
   "metadata": {},
   "source": [
    "## Question 3\n",
    "Let's use these models!\n",
    "\n",
    "* Write a script for loading these models with pickle\n",
    "\n",
    "* Score this customer:\n",
    "\n",
    "`{\"contract\": \"two_year\", \"tenure\": 12, \"monthlycharges\": 19.7}`\n",
    "\n",
    "What's the probability that this customer is churning?\n",
    "\n",
    "If you're getting errors when unpickling the files, check their checksum:\n",
    "```\n",
    "$ md5sum model1.bin dv.bin\n",
    "5868e129bfbb309ba60bf750263afab1  model1.bin\n",
    "c49b69f8a5a3c560882ff5daa3c0ff4d  dv.bin\n",
    "```"
   ]
  },
  {
   "cell_type": "code",
   "execution_count": 1,
   "id": "a0a7346c",
   "metadata": {},
   "outputs": [
    {
     "data": {
      "text/plain": [
       "0.11549580587832894"
      ]
     },
     "execution_count": 1,
     "metadata": {},
     "output_type": "execute_result"
    }
   ],
   "source": [
    "0.11549580587832894"
   ]
  },
  {
   "cell_type": "markdown",
   "id": "35cec351",
   "metadata": {},
   "source": [
    "## Question 4\n",
    "Now let's serve this model as a web service\n",
    "\n",
    "* Install Flask and Gunicorn (or waitress, if you're on Windows)\n",
    "* Write Flask code for serving the model\n",
    "* Now score this customer using `requests`:\n",
    "```\n",
    "url = \"YOUR_URL\"\n",
    "customer = {\"contract\": \"two_year\", \"tenure\": 1, \"monthlycharges\": 10}\n",
    "requests.post(url, json=customer).json()\n",
    "```\n",
    "What's the probability that this customer is churning?"
   ]
  },
  {
   "cell_type": "code",
   "execution_count": 2,
   "id": "6e491b35",
   "metadata": {},
   "outputs": [
    {
     "data": {
      "text/plain": [
       "0.9988892771007961"
      ]
     },
     "execution_count": 2,
     "metadata": {},
     "output_type": "execute_result"
    }
   ],
   "source": [
    "0.9988892771007961"
   ]
  },
  {
   "cell_type": "markdown",
   "id": "a6be2d0c",
   "metadata": {},
   "source": [
    "## Docker\n",
    "Install Docker. We will use it for the next two questions.\n",
    "\n",
    "For these questions, I prepared a base image: agrigorev/zoomcamp-model:3.8.12-slim. You'll need to use it (see Question 5 for an example).\n",
    "\n",
    "This image is based on python:3.8.12-slim and has a logistic regression model (a different one) as well a dictionary vectorizer inside.\n",
    "\n",
    "This is how the Dockerfile for this image looks like:\n",
    "```\n",
    "FROM python:3.8.12-slim\n",
    "WORKDIR /app\n",
    "COPY [\"model2.bin\", \"dv.bin\", \"./\"]\n",
    "```\n",
    "I already built it and then pushed it to [agrigorev/zoomcamp-model:3.8.12-slim](https://hub.docker.com/r/agrigorev/zoomcamp-model).\n",
    "\n",
    ">Note: You don't need to build this docker image, it's just for your reference."
   ]
  },
  {
   "cell_type": "markdown",
   "id": "ff9156dd",
   "metadata": {},
   "source": [
    "## Question 5\n",
    "Now create your own Dockerfile based on the image I prepared.\n",
    "\n",
    "It should start like that:\n",
    "```\n",
    "FROM agrigorev/zoomcamp-model:3.8.12-slim\n",
    "# add your stuff here\n",
    "```\n",
    "Now complete it:\n",
    "\n",
    "* Install all the dependencies form the Pipenv file\n",
    "* Copy your Flask script\n",
    "* Run it with gunicorn\n",
    "\n",
    "When you build your image, what's the image id for `agrigorev/zoomcamp-model:3.8.12-slim`?\n",
    "\n",
    "Look at the first step of your build log. It should look something like that:\n",
    "```\n",
    "$ docker some-command-for-building\n",
    "Sending build context to Docker daemon  2.048kB\n",
    "Step 1/N : FROM agrigorev/zoomcamp-model:3.8.12-slim\n",
    " ---> XXXXXXXXXXXX\n",
    "Step 2/N : ....\n",
    "```\n",
    "You need this `XXXXXXXXXXXX`.\n",
    "\n",
    "Alternatively, you can get this information when running `docker images` - it'll be in the \"IMAGE ID\" column. Submitting DIGEST (long string starting with \"sha256\") is also fine."
   ]
  },
  {
   "cell_type": "code",
   "execution_count": 4,
   "id": "d8c233f5",
   "metadata": {
    "scrolled": true
   },
   "outputs": [
    {
     "data": {
      "text/plain": [
       "'0feb82719131'"
      ]
     },
     "execution_count": 4,
     "metadata": {},
     "output_type": "execute_result"
    }
   ],
   "source": [
    "'0feb82719131'"
   ]
  },
  {
   "cell_type": "markdown",
   "id": "c5d13c79",
   "metadata": {},
   "source": [
    "## Question 6\n",
    "Let's run your docker container!\n",
    "\n",
    "After running it, score this customer:\n",
    "```\n",
    "url = \"YOUR_URL\"\n",
    "customer = {\"contract\": \"two_year\", \"tenure\": 12, \"monthlycharges\": 10}\n",
    "requests.post(url, json=customer).json()\n",
    "```\n",
    "What's the probability that this customer is churning?"
   ]
  },
  {
   "cell_type": "code",
   "execution_count": null,
   "id": "617f4b5b",
   "metadata": {},
   "outputs": [],
   "source": []
  }
 ],
 "metadata": {
  "kernelspec": {
   "display_name": "Python 3 (ipykernel)",
   "language": "python",
   "name": "python3"
  },
  "language_info": {
   "codemirror_mode": {
    "name": "ipython",
    "version": 3
   },
   "file_extension": ".py",
   "mimetype": "text/x-python",
   "name": "python",
   "nbconvert_exporter": "python",
   "pygments_lexer": "ipython3",
   "version": "3.8.11"
  }
 },
 "nbformat": 4,
 "nbformat_minor": 5
}
